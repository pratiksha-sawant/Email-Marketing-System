{
 "cells": [
  {
   "cell_type": "code",
   "execution_count": null,
   "metadata": {},
   "outputs": [],
   "source": [
    "API : eeb21e53c6d14ea8d264fb7db3d0fb9e-898ca80e-74494d37\n",
    "URL :  https://api.mailgun.net/v3/sandboxcf02a8cfc5854b26ab2faa632f779fa6.mailgun.org\n",
    "        \n"
   ]
  },
  {
   "cell_type": "code",
   "execution_count": 3,
   "metadata": {},
   "outputs": [
    {
     "data": {
      "text/plain": [
       "<Response [400]>"
      ]
     },
     "execution_count": 3,
     "metadata": {},
     "output_type": "execute_result"
    }
   ],
   "source": [
    "import requests\n",
    "\n",
    "requests.post(\"https://api.mailgun.net/v3/sandboxcf02a8cfc5854b26ab2faa632f779fa6.mailgun.org\",\n",
    "              auth=(\"api\", \"eeb21e53c6d14ea8d264fb7db3d0fb9e-898ca80e-74494d37\"),\n",
    "              data={\"from\": \"info7374@sandboxcf02a8cfc5854b26ab2faa632f779fa6.mailgun.org\",\n",
    "                    \"to\": [\"pratiksha.swnt5@gmail.com\"],\n",
    "                    \"subject\": \"Hello\",\n",
    "                    \"text\": \"Testing some Mailgun awesomness!\"})"
   ]
  },
  {
   "cell_type": "code",
   "execution_count": null,
   "metadata": {},
   "outputs": [],
   "source": []
  }
 ],
 "metadata": {
  "kernelspec": {
   "display_name": "Python 3",
   "language": "python",
   "name": "python3"
  },
  "language_info": {
   "codemirror_mode": {
    "name": "ipython",
    "version": 3
   },
   "file_extension": ".py",
   "mimetype": "text/x-python",
   "name": "python",
   "nbconvert_exporter": "python",
   "pygments_lexer": "ipython3",
   "version": "3.7.1"
  }
 },
 "nbformat": 4,
 "nbformat_minor": 2
}
