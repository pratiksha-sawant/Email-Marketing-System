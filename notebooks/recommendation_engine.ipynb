{
 "cells": [
  {
   "cell_type": "markdown",
   "metadata": {},
   "source": [
    "# Using the Train Matchbox Model by Azure ML Studio"
   ]
  },
  {
   "cell_type": "code",
   "execution_count": 2,
   "metadata": {},
   "outputs": [],
   "source": [
    "import urllib\n",
    "import json\n",
    "import requests as rq\n",
    "import os\n",
    "import pandas as pd\n",
    "import numpy as np\n",
    "import warnings\n",
    "import json\n",
    "from google.cloud import bigquery\n",
    "from google.oauth2 import service_account\n",
    "\n",
    "warnings.filterwarnings('ignore')"
   ]
  },
  {
   "cell_type": "code",
   "execution_count": 3,
   "metadata": {},
   "outputs": [],
   "source": [
    "credentials = service_account.Credentials.from_service_account_file(os.getcwd()+'/final-project-team2-3547e307824d.json')\n",
    "project_id = 'final-project-team2'\n",
    "client = bigquery.Client(credentials= credentials,project=project_id)\n",
    "\n",
    "query = (\"SELECT * FROM movielens.customers\")\n",
    "query_job = client.query(\n",
    "    query,# Location must match that of the dataset(s) referenced in the query.\n",
    "    location=\"US\",)  # API request - starts the query\n",
    "customer = query_job.to_dataframe()\n",
    "customer.head()\n",
    "\n",
    "\n",
    "query = (\"SELECT * FROM movielens.movies\")\n",
    "query_job = client.query(\n",
    "    query,# Location must match that of the dataset(s) referenced in the query.\n",
    "    location=\"US\",)  # API request - starts the query\n",
    "movies = query_job.to_dataframe()\n",
    "movies.head()\n",
    "\n",
    "url = 'https://ussouthcentral.services.azureml.net/workspaces/b5735f278ad44ea1b4f08ede6d289e5f/services/a1bf6e157b234b3bb5512a034b671763/execute?api-version=2.0&details=true'\n",
    "api_key = 'API_KEY' # Replace this with the API key for the web service\n",
    "\n",
    "\n",
    "firstnames = []\n",
    "lastnames = []\n",
    "emails = []\n",
    "mydictionary = dict()\n",
    "\n",
    "for index, row in customer.iterrows():\n",
    "    userId = row['user_id']\n",
    "    firstnames.append({userId:row['first_name']})\n",
    "    lastnames.append({userId:row['last_name']})\n",
    "    emails.append({userId:row['email_id']})\n",
    "        \n",
    "tmp = customer.set_index('user_id').T.to_dict('list')\n",
    "\n",
    "for key in sorted(tmp.keys()):\n",
    "    mydictionary.update({key:tmp[key]})\n",
    "    \n",
    "moviesList = []\n",
    "\n",
    "for index,row in movies.iterrows():\n",
    "    movieId = row['movie_id']\n",
    "    moviesList.append({movieId:row['movie_title']})\n",
    "\n",
    "def recommendMovie(userId):\n",
    "    data = {\n",
    "        \"Inputs\":{\n",
    "            \"input1\":\n",
    "                {\n",
    "                    \"user_id\": [\"userId\"],\n",
    "                    \"Values\" : [[userId]]\n",
    "                },\n",
    "        },\n",
    "        \"GlobalParameters\":{\n",
    "\n",
    "        }\n",
    "    }\n",
    "\n",
    "    body = str.encode(json.dumps(data))\n",
    "    \n",
    "    headers = {'Content-Type':'application/json', 'Authorization':('Bearer '+ api_key)}\n",
    "    \n",
    "    req = urllib.request.Request(url, body, headers)\n",
    "#     print(req)\n",
    "    response = urllib.request.urlopen(req)\n",
    "    result = response.read().decode('utf-8')\n",
    "#     print (result)\n",
    "    d = json.loads(result)\n",
    "#     print(d)\n",
    "#     print (d['Results']['output1']['value']['Values'])\n",
    "    dlist = d['Results']['output1']['value']['Values']\n",
    "    finalList = []\n",
    "    for i in dlist:\n",
    "        for j in range(len(i)):\n",
    "            if j == 0:\n",
    "                continue\n",
    "            else:\n",
    "                finalList.append(int(i[j]))\n",
    "    return finalList\n",
    "  \n",
    "    "
   ]
  },
  {
   "cell_type": "code",
   "execution_count": 4,
   "metadata": {},
   "outputs": [
    {
     "data": {
      "text/plain": [
       "[318, 296, 2571, 2959, 527]"
      ]
     },
     "execution_count": 4,
     "metadata": {},
     "output_type": "execute_result"
    }
   ],
   "source": [
    "recommendMovie(10)"
   ]
  },
  {
   "cell_type": "code",
   "execution_count": 5,
   "metadata": {},
   "outputs": [
    {
     "data": {
      "text/plain": [
       "[1217, 318, 750, 1203, 1104]"
      ]
     },
     "execution_count": 5,
     "metadata": {},
     "output_type": "execute_result"
    }
   ],
   "source": [
    "recommendMovie(520)"
   ]
  },
  {
   "cell_type": "code",
   "execution_count": 6,
   "metadata": {},
   "outputs": [
    {
     "data": {
      "text/plain": [
       "[1217, 318, 750, 720, 1104]"
      ]
     },
     "execution_count": 6,
     "metadata": {},
     "output_type": "execute_result"
    }
   ],
   "source": [
    "recommendMovie(612)"
   ]
  }
 ],
 "metadata": {
  "kernelspec": {
   "display_name": "Python 3",
   "language": "python",
   "name": "python3"
  },
  "language_info": {
   "codemirror_mode": {
    "name": "ipython",
    "version": 3
   },
   "file_extension": ".py",
   "mimetype": "text/x-python",
   "name": "python",
   "nbconvert_exporter": "python",
   "pygments_lexer": "ipython3",
   "version": "3.7.1"
  }
 },
 "nbformat": 4,
 "nbformat_minor": 2
}
